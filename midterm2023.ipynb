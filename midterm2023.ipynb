{
 "cells": [
  {
   "cell_type": "markdown",
   "metadata": {},
   "source": [
    "# 중간고사"
   ]
  },
  {
   "cell_type": "markdown",
   "metadata": {},
   "source": [
    "#### 제출: 이 파일(midterm2023.ipynb)를 실행하여 저장한 후, \n",
    "#### 이 파일과, midterm_model.pkl 을 zip 파일로 저장한 후 중간고사 과제함에 제줄하세요."
   ]
  },
  {
   "cell_type": "markdown",
   "metadata": {},
   "source": [
    "open book 시험이며, 웹 서치 및 chatGPT 사용이 가능합니다.\n",
    "\n",
    "개인 노트북을 사용할 수 있으며, 개인 노트북과 PC실 컴퓨터 동시 사용도 가능 합니다.\n",
    "\n",
    "다른 사람에게 문제를 전송하거나, 문제풀이를 의뢰하는 것은 허용하지 않습니다."
   ]
  },
  {
   "cell_type": "markdown",
   "metadata": {},
   "source": [
    "# 1"
   ]
  },
  {
   "cell_type": "code",
   "execution_count": null,
   "metadata": {},
   "outputs": [],
   "source": [
    "from sklearn.linear_model import Ridge\n",
    "\n",
    "\n"
   ]
  },
  {
   "cell_type": "code",
   "execution_count": null,
   "metadata": {
    "tags": []
   },
   "outputs": [],
   "source": []
  },
  {
   "cell_type": "markdown",
   "metadata": {},
   "source": [
    "# 2"
   ]
  },
  {
   "cell_type": "code",
   "execution_count": null,
   "metadata": {},
   "outputs": [],
   "source": []
  },
  {
   "cell_type": "markdown",
   "metadata": {},
   "source": [
    "아래에 모든 독립변수를 리스트로 나타내었다. 아래 리스트를 수정하여 실제로 사용한 독립변수를 리스트를 사용하여 나타내시오."
   ]
  },
  {
   "cell_type": "code",
   "execution_count": null,
   "metadata": {},
   "outputs": [],
   "source": [
    "col_name=['A','B','C','D','E','F','G','H','I','J','K','L']        "
   ]
  },
  {
   "cell_type": "code",
   "execution_count": null,
   "metadata": {},
   "outputs": [],
   "source": [
    "col_name=[ ] "
   ]
  },
  {
   "cell_type": "code",
   "execution_count": null,
   "metadata": {},
   "outputs": [],
   "source": []
  },
  {
   "cell_type": "markdown",
   "metadata": {},
   "source": [
    "#### 다음은 2번 문제의 해결하는 fitted  모형을 저장하기 위한 코드이며 반드시 실행해야 합니다.\n",
    "#### fitted 모형이름을 logistic_regression 으로 하였습니다.\n",
    "#### 만일 이름이 다르면 아래 코드에서 logistic_regression을 그 이름으로 바꾸세요."
   ]
  },
  {
   "cell_type": "code",
   "execution_count": null,
   "metadata": {},
   "outputs": [],
   "source": [
    "import pickle\n",
    "\n",
    "# open a file, where you want to store the data\n",
    "file = open('midterm_model.pkl', 'wb')\n",
    "\n",
    "# dump information to that file\n",
    "pickle.dump(logistic_regression, file)\n",
    "\n",
    "# close the file\n",
    "file.close()"
   ]
  },
  {
   "cell_type": "code",
   "execution_count": null,
   "metadata": {},
   "outputs": [],
   "source": []
  },
  {
   "cell_type": "markdown",
   "metadata": {},
   "source": [
    "# 3"
   ]
  },
  {
   "cell_type": "code",
   "execution_count": null,
   "metadata": {},
   "outputs": [],
   "source": [
    "import pandas as pd\n",
    "from sklearn.linear_model import LogisticRegression\n",
    "data = pd.read_csv('alpha.csv')\n",
    "X_train=data[[\"A\",\"B\"]]\n",
    "y_train=data['Class']\n",
    "\n",
    "logistic_regression=LogisticRegression(penalty=\"l1\")\n",
    "logistic_regression.fit(X_train, y_train)"
   ]
  },
  {
   "cell_type": "code",
   "execution_count": null,
   "metadata": {},
   "outputs": [],
   "source": []
  }
 ],
 "metadata": {
  "kernelspec": {
   "display_name": "Python 3 (ipykernel)",
   "language": "python",
   "name": "python3"
  },
  "language_info": {
   "codemirror_mode": {
    "name": "ipython",
    "version": 3
   },
   "file_extension": ".py",
   "mimetype": "text/x-python",
   "name": "python",
   "nbconvert_exporter": "python",
   "pygments_lexer": "ipython3",
   "version": "3.10.9"
  }
 },
 "nbformat": 4,
 "nbformat_minor": 4
}
